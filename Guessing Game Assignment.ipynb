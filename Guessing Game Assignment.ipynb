{
  "nbformat": 4,
  "nbformat_minor": 0,
  "metadata": {
    "colab": {
      "provenance": [],
      "authorship_tag": "ABX9TyOKATCowh2zFwNeykbeQLcA",
      "include_colab_link": true
    },
    "kernelspec": {
      "name": "python3",
      "display_name": "Python 3"
    },
    "language_info": {
      "name": "python"
    }
  },
  "cells": [
    {
      "cell_type": "markdown",
      "metadata": {
        "id": "view-in-github",
        "colab_type": "text"
      },
      "source": [
        "<a href=\"https://colab.research.google.com/github/rileygoetz/DS1002-S24/blob/main/Guessing%20Game%20Assignment.ipynb\" target=\"_parent\"><img src=\"https://colab.research.google.com/assets/colab-badge.svg\" alt=\"Open In Colab\"/></a>"
      ]
    },
    {
      "cell_type": "code",
      "execution_count": 20,
      "metadata": {
        "colab": {
          "base_uri": "https://localhost:8080/"
        },
        "id": "aS5Qaz3ntnwr",
        "outputId": "a5020e11-14f3-4bcc-d150-9fb2a90b50e5"
      },
      "outputs": [
        {
          "output_type": "stream",
          "name": "stdout",
          "text": [
            "I am selecting a number between 0 and 100.\n",
            "Guess the number between 0 and 100: 70\n",
            "Too high. Try again.\n",
            "Guess the number between 0 and 100: 60\n",
            "Too high. Try again.\n",
            "Guess the number between 0 and 100: 50\n",
            "Too high. Try again.\n",
            "Guess the number between 0 and 100: 40\n",
            "Too low. Try again.\n",
            "Guess the number between 0 and 100: 45\n",
            "Too low. Try again.\n",
            "Guess the number between 0 and 100: 46\n",
            "Too low. Try again.\n",
            "Guess the number between 0 and 100: 47\n",
            "Too low. Try again.\n",
            "Guess the number between 0 and 100: 48\n",
            "Too low. Try again.\n",
            "Guess the number between 0 and 100: 49\n",
            "You got it!\n"
          ]
        }
      ],
      "source": [
        "import numpy\n",
        "\n",
        "def number_guessing_game():\n",
        "    print(\"I am selecting a number between 0 and 100.\")\n",
        "    target_number = random.randint(0, 100)\n",
        "\n",
        "    while True:\n",
        "        user_input = input(\"Guess the number between 0 and 100: \")\n",
        "\n",
        "        try:\n",
        "            user_guess = int(user_input)\n",
        "        except ValueError:\n",
        "            print(\"Please enter a valid integer. Try again.\")\n",
        "            continue\n",
        "\n",
        "        if user_guess == target_number:\n",
        "            print(\"You got it!\")\n",
        "            break\n",
        "        elif user_guess < target_number:\n",
        "            print(\"Too low. Try again.\")\n",
        "        else:\n",
        "            print(\"Too high. Try again.\")\n",
        "\n",
        "number_guessing_game()"
      ]
    }
  ]
}