{
  "nbformat": 4,
  "nbformat_minor": 0,
  "metadata": {
    "colab": {
      "provenance": [],
      "include_colab_link": true
    },
    "kernelspec": {
      "name": "python3",
      "display_name": "Python 3"
    },
    "language_info": {
      "name": "python"
    }
  },
  "cells": [
    {
      "cell_type": "markdown",
      "metadata": {
        "id": "view-in-github",
        "colab_type": "text"
      },
      "source": [
        "<a href=\"https://colab.research.google.com/github/rileygoetz/DS1002-S24/blob/main/Assignments%209/Lab_FTX.ipynb\" target=\"_parent\"><img src=\"https://colab.research.google.com/assets/colab-badge.svg\" alt=\"Open In Colab\"/></a>"
      ]
    },
    {
      "cell_type": "markdown",
      "source": [
        "# DS1002 Lab 1:  FTX\n",
        "\n",
        "### Due Monday 1 April at noon\n",
        "\n",
        "In this lab you will work with a dataset, writing python to generate the deliverables specified in the cells below.\n",
        "\n",
        "> **FTX** was a cryptocurrency exchange founded by Sam Bankman-Fried that saw both a spectacular rise and collapse between 2021 and 2022. At one point it had a valuation of $32B. In November Bankman-Fried was found guilty on seven counts of fraud and conspiracy.  His sentencing hearing is today.\n",
        "\n",
        "The dataset for this assignment covers that rise and fall from the viewpoint of daily stock closing prices for FTX (ticker symbol `FTT`).\n",
        "\n",
        "Answer the questions below with the appropriate Python code.\n",
        "\n",
        "**Put code and outputs in this notebook.**\n"
      ],
      "metadata": {
        "id": "2yEePrJ-1G1Z"
      }
    },
    {
      "cell_type": "markdown",
      "source": [
        "## Group Submissions\n",
        "\n",
        "As usual you may work in a group to complete this lab, with no more than 3 members in a group. Group members should be indicated in the cell below -- list both names and UVA computing IDs.\n",
        "\n",
        "Each student should then submit **the same URL** for the lab in Canvas. (If a group has Member1, Member2, and Member3, only one member needs to save the completed work back to GitHub and all members should submit that URL for grading.)"
      ],
      "metadata": {
        "id": "acXFkytd2PWS"
      }
    },
    {
      "cell_type": "code",
      "source": [
        "# List group members (if applicable). Identify names and computing IDs\n",
        "#\n",
        "# Name                    Computing ID"
      ],
      "metadata": {
        "id": "4N8_o3tG232h"
      },
      "execution_count": null,
      "outputs": []
    },
    {
      "cell_type": "markdown",
      "source": [
        "## 1. Load Libraries & Data\n",
        "\n",
        "https://s3.amazonaws.com/ds1002-resources/data/ftx-2021-01-01--2023-12-31.csv\n",
        "\n",
        "Import any necessary libraries and load the remote CSV file below into a DataFrame. **Resolve any import issues you need to.**"
      ],
      "metadata": {
        "id": "w0VxTDNf1k2O"
      }
    },
    {
      "cell_type": "code",
      "execution_count": 3,
      "metadata": {
        "id": "I0B9chFD1GR0"
      },
      "outputs": [],
      "source": [
        "import numpy as np\n",
        "import pandas as pd\n",
        "data = pd.read_csv('data.csv')\n"
      ]
    },
    {
      "cell_type": "markdown",
      "source": [
        "## 2. Get Summary Data"
      ],
      "metadata": {
        "id": "H389W9dkobGI"
      }
    },
    {
      "cell_type": "markdown",
      "source": [
        "In code, display how many rows and columns are in the raw dataset."
      ],
      "metadata": {
        "id": "KA0wbjmE-4Q9"
      }
    },
    {
      "cell_type": "code",
      "source": [
        "file_path = 'data.csv'\n",
        "\n",
        "data = pd.read_csv(file_path, delimiter=';')\n",
        "\n",
        "print(data.shape)\n"
      ],
      "metadata": {
        "id": "XhULtu7qox-p",
        "outputId": "d9902b4d-9a3a-426c-adc1-4ccbae2723c3",
        "colab": {
          "base_uri": "https://localhost:8080/"
        }
      },
      "execution_count": 4,
      "outputs": [
        {
          "output_type": "stream",
          "name": "stdout",
          "text": [
            "(741, 11)\n"
          ]
        }
      ]
    },
    {
      "cell_type": "markdown",
      "source": [
        "## 3. Clean and Organize the Data\n",
        "\n",
        "Check for data quality.\n",
        "\n",
        "- Resolve any empty values or duplicate rows.\n",
        "- Order the data properly if necessary.\n",
        "- Drop the following columns and save the dataframe: `timeOpen`, `timeClose`, `timeHigh`, `timeLow`, `marketCap`\n",
        "\n"
      ],
      "metadata": {
        "id": "abshX7QeooAs"
      }
    },
    {
      "cell_type": "code",
      "source": [
        "data_cleaned = data.drop_duplicates()\n",
        "\n",
        "data_cleaned = data_cleaned.sort_values(by='timestamp')\n",
        "\n",
        "columns_to_drop = ['timeOpen', 'timeClose', 'timeHigh', 'timeLow', 'marketCap']\n",
        "data_cleaned = data_cleaned.drop(columns=columns_to_drop)\n",
        "\n",
        "cleaned_file_path = 'path_to_your_cleaned_file.csv'\n",
        "data_cleaned.to_csv(cleaned_file_path, index=False)"
      ],
      "metadata": {
        "id": "_YZ8xdVD84Vg"
      },
      "execution_count": 5,
      "outputs": []
    },
    {
      "cell_type": "markdown",
      "source": [
        "Now display the first 10 rows of the cleaned dataset."
      ],
      "metadata": {
        "id": "Ccwu8bUx_Azj"
      }
    },
    {
      "cell_type": "code",
      "source": [
        "data_cleaned.head(10)\n"
      ],
      "metadata": {
        "id": "_N5mmc78EPED",
        "outputId": "c178acfc-ce2f-4bbf-bac5-57af857348c2",
        "colab": {
          "base_uri": "https://localhost:8080/",
          "height": 363
        }
      },
      "execution_count": 6,
      "outputs": [
        {
          "output_type": "execute_result",
          "data": {
            "text/plain": [
              "         open       high       low     close        volume  \\\n",
              "739  6.201133   7.007523  6.171834  6.923968  3.104665e+07   \n",
              "738  6.948680   7.632146  6.358218  7.514079  4.052611e+07   \n",
              "737  7.528216   8.714947  7.081120  8.664688  4.947928e+07   \n",
              "736  8.671285   9.390797  8.425946  9.390797  3.140463e+07   \n",
              "735  9.386493  10.004872  9.215244  9.562131  4.630334e+07   \n",
              "734  9.569239   9.726429  8.452265  9.380988  4.228627e+07   \n",
              "733  9.370450   9.636120  8.728044  9.570511  2.849895e+07   \n",
              "732  9.571917   9.944797  8.657147  9.308809  3.101239e+07   \n",
              "731  9.298315   9.298315  7.126050  8.610997  1.013024e+08   \n",
              "730  8.615143   9.097479  8.040916  8.381133  2.674536e+07   \n",
              "\n",
              "                    timestamp  \n",
              "739  2021-01-03T23:59:59.999Z  \n",
              "738  2021-01-04T23:59:59.999Z  \n",
              "737  2021-01-05T23:59:59.999Z  \n",
              "736  2021-01-06T23:59:59.999Z  \n",
              "735  2021-01-07T23:59:59.999Z  \n",
              "734  2021-01-08T23:59:59.999Z  \n",
              "733  2021-01-09T23:59:59.999Z  \n",
              "732  2021-01-10T23:59:59.999Z  \n",
              "731  2021-01-11T23:59:59.999Z  \n",
              "730  2021-01-12T23:59:59.999Z  "
            ],
            "text/html": [
              "\n",
              "  <div id=\"df-b2a768e9-5304-4aed-8c0d-b0dce16e2028\" class=\"colab-df-container\">\n",
              "    <div>\n",
              "<style scoped>\n",
              "    .dataframe tbody tr th:only-of-type {\n",
              "        vertical-align: middle;\n",
              "    }\n",
              "\n",
              "    .dataframe tbody tr th {\n",
              "        vertical-align: top;\n",
              "    }\n",
              "\n",
              "    .dataframe thead th {\n",
              "        text-align: right;\n",
              "    }\n",
              "</style>\n",
              "<table border=\"1\" class=\"dataframe\">\n",
              "  <thead>\n",
              "    <tr style=\"text-align: right;\">\n",
              "      <th></th>\n",
              "      <th>open</th>\n",
              "      <th>high</th>\n",
              "      <th>low</th>\n",
              "      <th>close</th>\n",
              "      <th>volume</th>\n",
              "      <th>timestamp</th>\n",
              "    </tr>\n",
              "  </thead>\n",
              "  <tbody>\n",
              "    <tr>\n",
              "      <th>739</th>\n",
              "      <td>6.201133</td>\n",
              "      <td>7.007523</td>\n",
              "      <td>6.171834</td>\n",
              "      <td>6.923968</td>\n",
              "      <td>3.104665e+07</td>\n",
              "      <td>2021-01-03T23:59:59.999Z</td>\n",
              "    </tr>\n",
              "    <tr>\n",
              "      <th>738</th>\n",
              "      <td>6.948680</td>\n",
              "      <td>7.632146</td>\n",
              "      <td>6.358218</td>\n",
              "      <td>7.514079</td>\n",
              "      <td>4.052611e+07</td>\n",
              "      <td>2021-01-04T23:59:59.999Z</td>\n",
              "    </tr>\n",
              "    <tr>\n",
              "      <th>737</th>\n",
              "      <td>7.528216</td>\n",
              "      <td>8.714947</td>\n",
              "      <td>7.081120</td>\n",
              "      <td>8.664688</td>\n",
              "      <td>4.947928e+07</td>\n",
              "      <td>2021-01-05T23:59:59.999Z</td>\n",
              "    </tr>\n",
              "    <tr>\n",
              "      <th>736</th>\n",
              "      <td>8.671285</td>\n",
              "      <td>9.390797</td>\n",
              "      <td>8.425946</td>\n",
              "      <td>9.390797</td>\n",
              "      <td>3.140463e+07</td>\n",
              "      <td>2021-01-06T23:59:59.999Z</td>\n",
              "    </tr>\n",
              "    <tr>\n",
              "      <th>735</th>\n",
              "      <td>9.386493</td>\n",
              "      <td>10.004872</td>\n",
              "      <td>9.215244</td>\n",
              "      <td>9.562131</td>\n",
              "      <td>4.630334e+07</td>\n",
              "      <td>2021-01-07T23:59:59.999Z</td>\n",
              "    </tr>\n",
              "    <tr>\n",
              "      <th>734</th>\n",
              "      <td>9.569239</td>\n",
              "      <td>9.726429</td>\n",
              "      <td>8.452265</td>\n",
              "      <td>9.380988</td>\n",
              "      <td>4.228627e+07</td>\n",
              "      <td>2021-01-08T23:59:59.999Z</td>\n",
              "    </tr>\n",
              "    <tr>\n",
              "      <th>733</th>\n",
              "      <td>9.370450</td>\n",
              "      <td>9.636120</td>\n",
              "      <td>8.728044</td>\n",
              "      <td>9.570511</td>\n",
              "      <td>2.849895e+07</td>\n",
              "      <td>2021-01-09T23:59:59.999Z</td>\n",
              "    </tr>\n",
              "    <tr>\n",
              "      <th>732</th>\n",
              "      <td>9.571917</td>\n",
              "      <td>9.944797</td>\n",
              "      <td>8.657147</td>\n",
              "      <td>9.308809</td>\n",
              "      <td>3.101239e+07</td>\n",
              "      <td>2021-01-10T23:59:59.999Z</td>\n",
              "    </tr>\n",
              "    <tr>\n",
              "      <th>731</th>\n",
              "      <td>9.298315</td>\n",
              "      <td>9.298315</td>\n",
              "      <td>7.126050</td>\n",
              "      <td>8.610997</td>\n",
              "      <td>1.013024e+08</td>\n",
              "      <td>2021-01-11T23:59:59.999Z</td>\n",
              "    </tr>\n",
              "    <tr>\n",
              "      <th>730</th>\n",
              "      <td>8.615143</td>\n",
              "      <td>9.097479</td>\n",
              "      <td>8.040916</td>\n",
              "      <td>8.381133</td>\n",
              "      <td>2.674536e+07</td>\n",
              "      <td>2021-01-12T23:59:59.999Z</td>\n",
              "    </tr>\n",
              "  </tbody>\n",
              "</table>\n",
              "</div>\n",
              "    <div class=\"colab-df-buttons\">\n",
              "\n",
              "  <div class=\"colab-df-container\">\n",
              "    <button class=\"colab-df-convert\" onclick=\"convertToInteractive('df-b2a768e9-5304-4aed-8c0d-b0dce16e2028')\"\n",
              "            title=\"Convert this dataframe to an interactive table.\"\n",
              "            style=\"display:none;\">\n",
              "\n",
              "  <svg xmlns=\"http://www.w3.org/2000/svg\" height=\"24px\" viewBox=\"0 -960 960 960\">\n",
              "    <path d=\"M120-120v-720h720v720H120Zm60-500h600v-160H180v160Zm220 220h160v-160H400v160Zm0 220h160v-160H400v160ZM180-400h160v-160H180v160Zm440 0h160v-160H620v160ZM180-180h160v-160H180v160Zm440 0h160v-160H620v160Z\"/>\n",
              "  </svg>\n",
              "    </button>\n",
              "\n",
              "  <style>\n",
              "    .colab-df-container {\n",
              "      display:flex;\n",
              "      gap: 12px;\n",
              "    }\n",
              "\n",
              "    .colab-df-convert {\n",
              "      background-color: #E8F0FE;\n",
              "      border: none;\n",
              "      border-radius: 50%;\n",
              "      cursor: pointer;\n",
              "      display: none;\n",
              "      fill: #1967D2;\n",
              "      height: 32px;\n",
              "      padding: 0 0 0 0;\n",
              "      width: 32px;\n",
              "    }\n",
              "\n",
              "    .colab-df-convert:hover {\n",
              "      background-color: #E2EBFA;\n",
              "      box-shadow: 0px 1px 2px rgba(60, 64, 67, 0.3), 0px 1px 3px 1px rgba(60, 64, 67, 0.15);\n",
              "      fill: #174EA6;\n",
              "    }\n",
              "\n",
              "    .colab-df-buttons div {\n",
              "      margin-bottom: 4px;\n",
              "    }\n",
              "\n",
              "    [theme=dark] .colab-df-convert {\n",
              "      background-color: #3B4455;\n",
              "      fill: #D2E3FC;\n",
              "    }\n",
              "\n",
              "    [theme=dark] .colab-df-convert:hover {\n",
              "      background-color: #434B5C;\n",
              "      box-shadow: 0px 1px 3px 1px rgba(0, 0, 0, 0.15);\n",
              "      filter: drop-shadow(0px 1px 2px rgba(0, 0, 0, 0.3));\n",
              "      fill: #FFFFFF;\n",
              "    }\n",
              "  </style>\n",
              "\n",
              "    <script>\n",
              "      const buttonEl =\n",
              "        document.querySelector('#df-b2a768e9-5304-4aed-8c0d-b0dce16e2028 button.colab-df-convert');\n",
              "      buttonEl.style.display =\n",
              "        google.colab.kernel.accessAllowed ? 'block' : 'none';\n",
              "\n",
              "      async function convertToInteractive(key) {\n",
              "        const element = document.querySelector('#df-b2a768e9-5304-4aed-8c0d-b0dce16e2028');\n",
              "        const dataTable =\n",
              "          await google.colab.kernel.invokeFunction('convertToInteractive',\n",
              "                                                    [key], {});\n",
              "        if (!dataTable) return;\n",
              "\n",
              "        const docLinkHtml = 'Like what you see? Visit the ' +\n",
              "          '<a target=\"_blank\" href=https://colab.research.google.com/notebooks/data_table.ipynb>data table notebook</a>'\n",
              "          + ' to learn more about interactive tables.';\n",
              "        element.innerHTML = '';\n",
              "        dataTable['output_type'] = 'display_data';\n",
              "        await google.colab.output.renderOutput(dataTable, element);\n",
              "        const docLink = document.createElement('div');\n",
              "        docLink.innerHTML = docLinkHtml;\n",
              "        element.appendChild(docLink);\n",
              "      }\n",
              "    </script>\n",
              "  </div>\n",
              "\n",
              "\n",
              "<div id=\"df-732f02a9-2343-4c67-87ce-74df883f7b1a\">\n",
              "  <button class=\"colab-df-quickchart\" onclick=\"quickchart('df-732f02a9-2343-4c67-87ce-74df883f7b1a')\"\n",
              "            title=\"Suggest charts\"\n",
              "            style=\"display:none;\">\n",
              "\n",
              "<svg xmlns=\"http://www.w3.org/2000/svg\" height=\"24px\"viewBox=\"0 0 24 24\"\n",
              "     width=\"24px\">\n",
              "    <g>\n",
              "        <path d=\"M19 3H5c-1.1 0-2 .9-2 2v14c0 1.1.9 2 2 2h14c1.1 0 2-.9 2-2V5c0-1.1-.9-2-2-2zM9 17H7v-7h2v7zm4 0h-2V7h2v10zm4 0h-2v-4h2v4z\"/>\n",
              "    </g>\n",
              "</svg>\n",
              "  </button>\n",
              "\n",
              "<style>\n",
              "  .colab-df-quickchart {\n",
              "      --bg-color: #E8F0FE;\n",
              "      --fill-color: #1967D2;\n",
              "      --hover-bg-color: #E2EBFA;\n",
              "      --hover-fill-color: #174EA6;\n",
              "      --disabled-fill-color: #AAA;\n",
              "      --disabled-bg-color: #DDD;\n",
              "  }\n",
              "\n",
              "  [theme=dark] .colab-df-quickchart {\n",
              "      --bg-color: #3B4455;\n",
              "      --fill-color: #D2E3FC;\n",
              "      --hover-bg-color: #434B5C;\n",
              "      --hover-fill-color: #FFFFFF;\n",
              "      --disabled-bg-color: #3B4455;\n",
              "      --disabled-fill-color: #666;\n",
              "  }\n",
              "\n",
              "  .colab-df-quickchart {\n",
              "    background-color: var(--bg-color);\n",
              "    border: none;\n",
              "    border-radius: 50%;\n",
              "    cursor: pointer;\n",
              "    display: none;\n",
              "    fill: var(--fill-color);\n",
              "    height: 32px;\n",
              "    padding: 0;\n",
              "    width: 32px;\n",
              "  }\n",
              "\n",
              "  .colab-df-quickchart:hover {\n",
              "    background-color: var(--hover-bg-color);\n",
              "    box-shadow: 0 1px 2px rgba(60, 64, 67, 0.3), 0 1px 3px 1px rgba(60, 64, 67, 0.15);\n",
              "    fill: var(--button-hover-fill-color);\n",
              "  }\n",
              "\n",
              "  .colab-df-quickchart-complete:disabled,\n",
              "  .colab-df-quickchart-complete:disabled:hover {\n",
              "    background-color: var(--disabled-bg-color);\n",
              "    fill: var(--disabled-fill-color);\n",
              "    box-shadow: none;\n",
              "  }\n",
              "\n",
              "  .colab-df-spinner {\n",
              "    border: 2px solid var(--fill-color);\n",
              "    border-color: transparent;\n",
              "    border-bottom-color: var(--fill-color);\n",
              "    animation:\n",
              "      spin 1s steps(1) infinite;\n",
              "  }\n",
              "\n",
              "  @keyframes spin {\n",
              "    0% {\n",
              "      border-color: transparent;\n",
              "      border-bottom-color: var(--fill-color);\n",
              "      border-left-color: var(--fill-color);\n",
              "    }\n",
              "    20% {\n",
              "      border-color: transparent;\n",
              "      border-left-color: var(--fill-color);\n",
              "      border-top-color: var(--fill-color);\n",
              "    }\n",
              "    30% {\n",
              "      border-color: transparent;\n",
              "      border-left-color: var(--fill-color);\n",
              "      border-top-color: var(--fill-color);\n",
              "      border-right-color: var(--fill-color);\n",
              "    }\n",
              "    40% {\n",
              "      border-color: transparent;\n",
              "      border-right-color: var(--fill-color);\n",
              "      border-top-color: var(--fill-color);\n",
              "    }\n",
              "    60% {\n",
              "      border-color: transparent;\n",
              "      border-right-color: var(--fill-color);\n",
              "    }\n",
              "    80% {\n",
              "      border-color: transparent;\n",
              "      border-right-color: var(--fill-color);\n",
              "      border-bottom-color: var(--fill-color);\n",
              "    }\n",
              "    90% {\n",
              "      border-color: transparent;\n",
              "      border-bottom-color: var(--fill-color);\n",
              "    }\n",
              "  }\n",
              "</style>\n",
              "\n",
              "  <script>\n",
              "    async function quickchart(key) {\n",
              "      const quickchartButtonEl =\n",
              "        document.querySelector('#' + key + ' button');\n",
              "      quickchartButtonEl.disabled = true;  // To prevent multiple clicks.\n",
              "      quickchartButtonEl.classList.add('colab-df-spinner');\n",
              "      try {\n",
              "        const charts = await google.colab.kernel.invokeFunction(\n",
              "            'suggestCharts', [key], {});\n",
              "      } catch (error) {\n",
              "        console.error('Error during call to suggestCharts:', error);\n",
              "      }\n",
              "      quickchartButtonEl.classList.remove('colab-df-spinner');\n",
              "      quickchartButtonEl.classList.add('colab-df-quickchart-complete');\n",
              "    }\n",
              "    (() => {\n",
              "      let quickchartButtonEl =\n",
              "        document.querySelector('#df-732f02a9-2343-4c67-87ce-74df883f7b1a button');\n",
              "      quickchartButtonEl.style.display =\n",
              "        google.colab.kernel.accessAllowed ? 'block' : 'none';\n",
              "    })();\n",
              "  </script>\n",
              "</div>\n",
              "\n",
              "    </div>\n",
              "  </div>\n"
            ],
            "application/vnd.google.colaboratory.intrinsic+json": {
              "type": "dataframe",
              "variable_name": "data_cleaned",
              "summary": "{\n  \"name\": \"data_cleaned\",\n  \"rows\": 727,\n  \"fields\": [\n    {\n      \"column\": \"open\",\n      \"properties\": {\n        \"dtype\": \"number\",\n        \"std\": 16.1035338133042,\n        \"min\": 0.8389684425,\n        \"max\": 79.52836962,\n        \"num_unique_values\": 727,\n        \"samples\": [\n          28.9563167953,\n          1.3157512367,\n          46.0596495217\n        ],\n        \"semantic_type\": \"\",\n        \"description\": \"\"\n      }\n    },\n    {\n      \"column\": \"high\",\n      \"properties\": {\n        \"dtype\": \"number\",\n        \"std\": 16.78796574913453,\n        \"min\": 0.853501666,\n        \"max\": 85.0168524,\n        \"num_unique_values\": 727,\n        \"samples\": [\n          29.0913360636,\n          1.3293454362,\n          46.5800480101\n        ],\n        \"semantic_type\": \"\",\n        \"description\": \"\"\n      }\n    },\n    {\n      \"column\": \"low\",\n      \"properties\": {\n        \"dtype\": \"number\",\n        \"std\": 15.450005209358025,\n        \"min\": 0.8266428992,\n        \"max\": 71.9259352,\n        \"num_unique_values\": 727,\n        \"samples\": [\n          26.603364667,\n          1.2819613781,\n          45.289783057\n        ],\n        \"semantic_type\": \"\",\n        \"description\": \"\"\n      }\n    },\n    {\n      \"column\": \"close\",\n      \"properties\": {\n        \"dtype\": \"number\",\n        \"std\": 16.110665264905244,\n        \"min\": 0.8390481756,\n        \"max\": 79.87131341,\n        \"num_unique_values\": 727,\n        \"samples\": [\n          26.9054856794,\n          1.2950926908,\n          46.4249926227\n        ],\n        \"semantic_type\": \"\",\n        \"description\": \"\"\n      }\n    },\n    {\n      \"column\": \"volume\",\n      \"properties\": {\n        \"dtype\": \"number\",\n        \"std\": 334134232.9378182,\n        \"min\": 2577834.83,\n        \"max\": 3919748072.71,\n        \"num_unique_values\": 727,\n        \"samples\": [\n          74761383.79,\n          6250101.62,\n          203763296.77\n        ],\n        \"semantic_type\": \"\",\n        \"description\": \"\"\n      }\n    },\n    {\n      \"column\": \"timestamp\",\n      \"properties\": {\n        \"dtype\": \"object\",\n        \"num_unique_values\": 727,\n        \"samples\": [\n          \"2022-06-01T23:59:59.999Z\",\n          \"2022-11-28T23:59:59.999Z\",\n          \"2022-01-16T23:59:59.999Z\"\n        ],\n        \"semantic_type\": \"\",\n        \"description\": \"\"\n      }\n    }\n  ]\n}"
            }
          },
          "metadata": {},
          "execution_count": 6
        }
      ]
    },
    {
      "cell_type": "markdown",
      "source": [
        "## 4. Calculate Daily Gains/Losses"
      ],
      "metadata": {
        "id": "3-4dd8nsr_zF"
      }
    },
    {
      "cell_type": "markdown",
      "source": [
        "Using Pandas, add a new column named `[\"close_change\"]` to the dataframe that calculates the difference between daily closing prices for FTX. This will result in positive (growth) and negative (loss) values.\n",
        "\n",
        "Note:\n",
        "- Be careful about how you calculate this. Each row should calculate that difference from the row above it, which must be the previous calendar day.\n",
        "- Hint: This is not complicated and does not require a for-loop.  See the Pandas review notebook for reference."
      ],
      "metadata": {
        "id": "HrGLlM83vH0c"
      }
    },
    {
      "cell_type": "code",
      "source": [
        "data_cleaned['close_change'] = data_cleaned['close'].diff()\n",
        "\n",
        "print(data_cleaned.head(10))"
      ],
      "metadata": {
        "id": "z0kzqPa4Ed0o",
        "outputId": "993df421-51bb-44b5-ce41-18a746f0bc33",
        "colab": {
          "base_uri": "https://localhost:8080/"
        }
      },
      "execution_count": 7,
      "outputs": [
        {
          "output_type": "stream",
          "name": "stdout",
          "text": [
            "         open       high       low     close        volume  \\\n",
            "739  6.201133   7.007523  6.171834  6.923968  3.104665e+07   \n",
            "738  6.948680   7.632146  6.358218  7.514079  4.052611e+07   \n",
            "737  7.528216   8.714947  7.081120  8.664688  4.947928e+07   \n",
            "736  8.671285   9.390797  8.425946  9.390797  3.140463e+07   \n",
            "735  9.386493  10.004872  9.215244  9.562131  4.630334e+07   \n",
            "734  9.569239   9.726429  8.452265  9.380988  4.228627e+07   \n",
            "733  9.370450   9.636120  8.728044  9.570511  2.849895e+07   \n",
            "732  9.571917   9.944797  8.657147  9.308809  3.101239e+07   \n",
            "731  9.298315   9.298315  7.126050  8.610997  1.013024e+08   \n",
            "730  8.615143   9.097479  8.040916  8.381133  2.674536e+07   \n",
            "\n",
            "                    timestamp  close_change  \n",
            "739  2021-01-03T23:59:59.999Z           NaN  \n",
            "738  2021-01-04T23:59:59.999Z      0.590111  \n",
            "737  2021-01-05T23:59:59.999Z      1.150608  \n",
            "736  2021-01-06T23:59:59.999Z      0.726110  \n",
            "735  2021-01-07T23:59:59.999Z      0.171334  \n",
            "734  2021-01-08T23:59:59.999Z     -0.181143  \n",
            "733  2021-01-09T23:59:59.999Z      0.189522  \n",
            "732  2021-01-10T23:59:59.999Z     -0.261701  \n",
            "731  2021-01-11T23:59:59.999Z     -0.697813  \n",
            "730  2021-01-12T23:59:59.999Z     -0.229863  \n"
          ]
        }
      ]
    },
    {
      "cell_type": "markdown",
      "source": [
        "## 5. Identify Growth Days"
      ],
      "metadata": {
        "id": "KKg8d9RDyeDa"
      }
    },
    {
      "cell_type": "markdown",
      "source": [
        "Based on the daily change in closing prices calculated above, identify the top 10 days of positive growth for FTX.\n",
        "\n",
        "Display your results in a table showing both the rate of change and their dates."
      ],
      "metadata": {
        "id": "5kKBo3_sykGD"
      }
    },
    {
      "cell_type": "code",
      "source": [
        "top_10_growth_days = data_cleaned.sort_values(by='close_change', ascending=False).head(10)\n",
        "\n",
        "top_10_growth_days = top_10_growth_days[['timestamp', 'close_change']]\n",
        "print(top_10_growth_days)"
      ],
      "metadata": {
        "id": "xRlliRMY2_-c",
        "outputId": "d9063817-14c3-4869-9ee6-6cbe93be3e4e",
        "colab": {
          "base_uri": "https://localhost:8080/"
        }
      },
      "execution_count": 8,
      "outputs": [
        {
          "output_type": "stream",
          "name": "stdout",
          "text": [
            "                    timestamp  close_change\n",
            "492  2021-09-01T23:59:59.999Z     16.677156\n",
            "487  2021-09-06T23:59:59.999Z      9.800320\n",
            "692  2021-02-19T23:59:59.999Z      8.335900\n",
            "592  2021-05-24T23:59:59.999Z      6.333923\n",
            "673  2021-03-09T23:59:59.999Z      5.529699\n",
            "515  2021-08-09T23:59:59.999Z      5.325192\n",
            "485  2021-09-08T23:59:59.999Z      5.239728\n",
            "625  2021-04-26T23:59:59.999Z      4.504385\n",
            "611  2021-05-05T23:59:59.999Z      4.488174\n",
            "311  2022-02-28T23:59:59.999Z      4.401841\n"
          ]
        }
      ]
    },
    {
      "cell_type": "markdown",
      "source": [
        "## 6. Calculate the Percentage Rate of Change"
      ],
      "metadata": {
        "id": "Y3AmR3eDxgfb"
      }
    },
    {
      "cell_type": "markdown",
      "source": [
        "\n",
        "\n",
        "```\n",
        "\n",
        "```\n",
        "\n",
        "Next, create a new column named `[\"rate_of_change\"]` based on `[\"close_change\"]`.\n",
        "\n",
        "Use the Pandas Review notebook for reference. Again, this is an easy operation in Pandas and does not require a for-loop."
      ],
      "metadata": {
        "id": "XK3yweENxjdn"
      }
    },
    {
      "cell_type": "code",
      "source": [
        "data_cleaned['rate_of_change'] = data_cleaned['close_change'] / data_cleaned['close'].shift(1)\n",
        "\n",
        "print(data_cleaned.head(10))"
      ],
      "metadata": {
        "id": "FqL5yyvi6w7r",
        "outputId": "62156ce6-83cf-4ed7-fbca-2ce5ce5d8141",
        "colab": {
          "base_uri": "https://localhost:8080/"
        }
      },
      "execution_count": 9,
      "outputs": [
        {
          "output_type": "stream",
          "name": "stdout",
          "text": [
            "         open       high       low     close        volume  \\\n",
            "739  6.201133   7.007523  6.171834  6.923968  3.104665e+07   \n",
            "738  6.948680   7.632146  6.358218  7.514079  4.052611e+07   \n",
            "737  7.528216   8.714947  7.081120  8.664688  4.947928e+07   \n",
            "736  8.671285   9.390797  8.425946  9.390797  3.140463e+07   \n",
            "735  9.386493  10.004872  9.215244  9.562131  4.630334e+07   \n",
            "734  9.569239   9.726429  8.452265  9.380988  4.228627e+07   \n",
            "733  9.370450   9.636120  8.728044  9.570511  2.849895e+07   \n",
            "732  9.571917   9.944797  8.657147  9.308809  3.101239e+07   \n",
            "731  9.298315   9.298315  7.126050  8.610997  1.013024e+08   \n",
            "730  8.615143   9.097479  8.040916  8.381133  2.674536e+07   \n",
            "\n",
            "                    timestamp  close_change  rate_of_change  \n",
            "739  2021-01-03T23:59:59.999Z           NaN             NaN  \n",
            "738  2021-01-04T23:59:59.999Z      0.590111        0.085227  \n",
            "737  2021-01-05T23:59:59.999Z      1.150608        0.153127  \n",
            "736  2021-01-06T23:59:59.999Z      0.726110        0.083801  \n",
            "735  2021-01-07T23:59:59.999Z      0.171334        0.018245  \n",
            "734  2021-01-08T23:59:59.999Z     -0.181143       -0.018944  \n",
            "733  2021-01-09T23:59:59.999Z      0.189522        0.020203  \n",
            "732  2021-01-10T23:59:59.999Z     -0.261701       -0.027345  \n",
            "731  2021-01-11T23:59:59.999Z     -0.697813       -0.074963  \n",
            "730  2021-01-12T23:59:59.999Z     -0.229863       -0.026694  \n"
          ]
        }
      ]
    },
    {
      "cell_type": "markdown",
      "source": [
        "## 7. Identify Days of Greatest Percentage Change"
      ],
      "metadata": {
        "id": "2ifRW8qU3OOB"
      }
    },
    {
      "cell_type": "markdown",
      "source": [
        "Based on the rate change column calculated above, identify the top 5 days of greatest positive rate change, and the top 5 days of greatest negative rate change.\n",
        "\n",
        "Display your results in a table showing both the rate of change and their dates."
      ],
      "metadata": {
        "id": "ISZf2C1j3bAA"
      }
    },
    {
      "cell_type": "code",
      "source": [
        "top_5_positive_rate_change = data_cleaned.sort_values(by='rate_of_change', ascending=False).head(5)\n",
        "\n",
        "top_5_negative_rate_change = data_cleaned.sort_values(by='rate_of_change').head(5)\n",
        "\n",
        "top_rate_changes = pd.concat([top_5_positive_rate_change, top_5_negative_rate_change], keys=['Positive', 'Negative'])\n",
        "\n",
        "top_rate_changes = top_rate_changes[['timestamp', 'rate_of_change']]\n",
        "print(top_rate_changes)"
      ],
      "metadata": {
        "id": "sGlUUWFxfS2w",
        "outputId": "e53aa22d-439e-46db-a971-f19d75a86d40",
        "colab": {
          "base_uri": "https://localhost:8080/"
        }
      },
      "execution_count": 10,
      "outputs": [
        {
          "output_type": "stream",
          "name": "stdout",
          "text": [
            "                             timestamp  rate_of_change\n",
            "Positive 53   2022-11-10T23:59:59.999Z        0.528686\n",
            "         492  2021-09-01T23:59:59.999Z        0.343825\n",
            "         692  2021-02-19T23:59:59.999Z        0.317665\n",
            "         24   2022-12-09T23:59:59.999Z        0.246848\n",
            "         48   2022-11-15T23:59:59.999Z        0.244886\n",
            "Negative 55   2022-11-08T23:59:59.999Z       -0.750752\n",
            "         54   2022-11-09T23:59:59.999Z       -0.583137\n",
            "         50   2022-11-13T23:59:59.999Z       -0.287059\n",
            "         597  2021-05-19T23:59:59.999Z       -0.275101\n",
            "         52   2022-11-11T23:59:59.999Z       -0.263444\n"
          ]
        }
      ]
    },
    {
      "cell_type": "markdown",
      "source": [
        "## 8. Plot the Data"
      ],
      "metadata": {
        "id": "2B9dxJbno0s0"
      }
    },
    {
      "cell_type": "markdown",
      "source": [
        "Create two separate plots of the data -- one for the daily closing price and one for the daily gains/losses. These can be histograms or line plots."
      ],
      "metadata": {
        "id": "LwMrL6-AplCH"
      }
    },
    {
      "cell_type": "code",
      "source": [
        "import matplotlib.pyplot as plt\n",
        "\n",
        "# Histogram for daily closing price\n",
        "plt.figure(figsize=(12, 6))\n",
        "plt.hist(data_cleaned['close'], bins=50, color='blue', alpha=0.7)\n",
        "plt.title('Histogram of Daily Closing Prices of FTX')\n",
        "plt.xlabel('Closing Price')\n",
        "plt.ylabel('Frequency')\n",
        "plt.grid(True)\n",
        "plt.show()\n",
        "\n",
        "# Histogram for daily gains/losses\n",
        "plt.figure(figsize=(12, 6))\n",
        "plt.hist(data_cleaned['close_change'].dropna(), bins=50, color='green', alpha=0.7)  # Dropping NaN values for plotting\n",
        "plt.title('Histogram of Daily Gains/Losses of FTX')\n",
        "plt.xlabel('Gains/Losses')\n",
        "plt.ylabel('Frequency')\n",
        "plt.grid(True)\n",
        "plt.show()"
      ],
      "metadata": {
        "id": "R0vq1cLRB0Kl",
        "outputId": "00fc8da2-52db-45c8-b564-d73f1da632ee",
        "colab": {
          "base_uri": "https://localhost:8080/",
          "height": 1000
        }
      },
      "execution_count": 11,
      "outputs": [
        {
          "output_type": "display_data",
          "data": {
            "text/plain": [
              "<Figure size 1200x600 with 1 Axes>"
            ],
            "image/png": "[encoded data removed]"
          },
          "metadata": {}
        },
        {
          "output_type": "display_data",
          "data": {
            "text/plain": [
              "<Figure size 1200x600 with 1 Axes>"
            ],
            "image/png": "[encoded data removed]"
          },
          "metadata": {}
        }
      ]
    },
    {
      "cell_type": "markdown",
      "source": [
        "Combine the two plots from above into a single plot, displaying both together. Your plot should have two Y-axis scales, should differentiate the two values by color, and should include a legend."
      ],
      "metadata": {
        "id": "xRT2iFAI5s4S"
      }
    },
    {
      "cell_type": "code",
      "source": [
        "fig, ax1 = plt.subplots(figsize=(12, 6))\n",
        "\n",
        "color = 'tab:blue'\n",
        "ax1.set_xlabel('Value')\n",
        "ax1.set_ylabel('Frequency of Closing Prices', color=color)\n",
        "ax1.hist(data_cleaned['close'], bins=50, color=color, alpha=0.7, label='Closing Prices')\n",
        "ax1.tick_params(axis='y', labelcolor=color)\n",
        "\n",
        "ax2 = ax1.twinx()\n",
        "color = 'tab:green'\n",
        "ax2.set_ylabel('Frequency of Gains/Losses', color=color)\n",
        "ax2.hist(data_cleaned['close_change'].dropna(), bins=50, color=color, alpha=0.7, label='Gains/Losses')\n",
        "ax2.tick_params(axis='y', labelcolor=color)\n",
        "\n",
        "fig.suptitle('Combined Histogram of Daily Closing Prices and Gains/Losses of FTX')\n",
        "fig.legend(loc='upper right', bbox_to_anchor=(0.875, 0.9))\n",
        "\n",
        "plt.show()\n"
      ],
      "metadata": {
        "id": "epypcCLc6QxL",
        "outputId": "7d3ac9d4-129c-47ec-d768-a71e662d4d06",
        "colab": {
          "base_uri": "https://localhost:8080/",
          "height": 602
        }
      },
      "execution_count": 12,
      "outputs": [
        {
          "output_type": "display_data",
          "data": {
            "text/plain": [
              "<Figure size 1200x600 with 2 Axes>"
            ],
            "image/png": "[encoded data removed]"
          },
          "metadata": {}
        }
      ]
    }
  ]
}