{
  "nbformat": 4,
  "nbformat_minor": 0,
  "metadata": {
    "colab": {
      "provenance": [],
      "authorship_tag": "ABX9TyP9naGarowIgwfsLttmMn+N",
      "include_colab_link": true
    },
    "kernelspec": {
      "name": "python3",
      "display_name": "Python 3"
    },
    "language_info": {
      "name": "python"
    }
  },
  "cells": [
    {
      "cell_type": "markdown",
      "metadata": {
        "id": "view-in-github",
        "colab_type": "text"
      },
      "source": [
        "<a href=\"https://colab.research.google.com/github/rileygoetz/DS1002-S24/blob/main/Assignment_5.ipynb\" target=\"_parent\"><img src=\"https://colab.research.google.com/assets/colab-badge.svg\" alt=\"Open In Colab\"/></a>"
      ]
    },
    {
      "cell_type": "code",
      "execution_count": 3,
      "metadata": {
        "colab": {
          "base_uri": "https://localhost:8080/"
        },
        "id": "OopYZ1cnDKMQ",
        "outputId": "e1326b4d-2180-409e-b12b-df92d09dbafd"
      },
      "outputs": [
        {
          "output_type": "stream",
          "name": "stdout",
          "text": [
            "Collecting english_words\n",
            "  Downloading english-words-2.0.1.tar.gz (8.2 MB)\n",
            "\u001b[2K     \u001b[90m━━━━━━━━━━━━━━━━━━━━━━━━━━━━━━━━━━━━━━━━\u001b[0m \u001b[32m8.2/8.2 MB\u001b[0m \u001b[31m14.5 MB/s\u001b[0m eta \u001b[36m0:00:00\u001b[0m\n",
            "\u001b[?25h  Installing build dependencies ... \u001b[?25l\u001b[?25hdone\n",
            "  Getting requirements to build wheel ... \u001b[?25l\u001b[?25hdone\n",
            "  Preparing metadata (pyproject.toml) ... \u001b[?25l\u001b[?25hdone\n",
            "Building wheels for collected packages: english_words\n",
            "  Building wheel for english_words (pyproject.toml) ... \u001b[?25l\u001b[?25hdone\n",
            "  Created wheel for english_words: filename=english_words-2.0.1-py3-none-any.whl size=8196238 sha256=56e41512e4928804752f1a3e39d0ba20f39ef749b0d976447f6ece300c174b59\n",
            "  Stored in directory: /root/.cache/pip/wheels/f0/e6/d9/16a123647999fe535f03a36e7af23eef203736d84c7ca25b0b\n",
            "Successfully built english_words\n",
            "Installing collected packages: english_words\n",
            "Successfully installed english_words-2.0.1\n"
          ]
        }
      ],
      "source": [
        "!pip install english_words\n",
        "from english_words import get_english_words_set\n",
        "words = get_english_words_set(['web2'], lower=True)\n"
      ]
    },
    {
      "cell_type": "markdown",
      "source": [
        "#1"
      ],
      "metadata": {
        "id": "FJ_m6-Wth0L8"
      }
    },
    {
      "cell_type": "code",
      "source": [
        "print(type(words))\n",
        "wordlist= list(words)\n",
        "print(type(wordlist))\n",
        "\n",
        "len(wordlist)"
      ],
      "metadata": {
        "colab": {
          "base_uri": "https://localhost:8080/"
        },
        "id": "5W_0Yf4eDNrO",
        "outputId": "3971fc41-5d89-4ad6-ff3e-b1e78a962cec"
      },
      "execution_count": 4,
      "outputs": [
        {
          "output_type": "stream",
          "name": "stdout",
          "text": [
            "<class 'set'>\n",
            "<class 'list'>\n"
          ]
        },
        {
          "output_type": "execute_result",
          "data": {
            "text/plain": [
              "234450"
            ]
          },
          "metadata": {},
          "execution_count": 4
        }
      ]
    },
    {
      "cell_type": "markdown",
      "source": [
        "The length of the word list is 234,450"
      ],
      "metadata": {
        "id": "8zaTIR7sDou4"
      }
    },
    {
      "cell_type": "markdown",
      "source": [
        "#2"
      ],
      "metadata": {
        "id": "J1AsBqVNh4MF"
      }
    },
    {
      "cell_type": "code",
      "source": [
        "first_ten = wordlist[:10]\n",
        "first_ten"
      ],
      "metadata": {
        "colab": {
          "base_uri": "https://localhost:8080/"
        },
        "id": "Y1_kV5mQD0i7",
        "outputId": "d86e2700-1bf1-4601-b307-b5c976550e03"
      },
      "execution_count": 5,
      "outputs": [
        {
          "output_type": "execute_result",
          "data": {
            "text/plain": [
              "['beest',\n",
              " 'tereticaudate',\n",
              " 'melanippus',\n",
              " 'uneffaced',\n",
              " 'contratempo',\n",
              " 'unterrifying',\n",
              " 'threose',\n",
              " 'chachalaca',\n",
              " 'misbelieve',\n",
              " 'subsultus']"
            ]
          },
          "metadata": {},
          "execution_count": 5
        }
      ]
    },
    {
      "cell_type": "markdown",
      "source": [
        "we notice the words are given in random order and not alphabetically"
      ],
      "metadata": {
        "id": "V6YiwC7rhYCp"
      }
    },
    {
      "cell_type": "markdown",
      "source": [
        "#3"
      ],
      "metadata": {
        "id": "ztukMwxkh6zV"
      }
    },
    {
      "cell_type": "code",
      "source": [
        "alpha_list = sorted(first_ten)\n",
        "first_ten_alpha = alpha_list[:10]\n",
        "first_ten_alpha"
      ],
      "metadata": {
        "id": "DHYRjA2mhc4Q",
        "outputId": "97d86ced-f7be-4974-8df5-9943deb10941",
        "colab": {
          "base_uri": "https://localhost:8080/"
        }
      },
      "execution_count": 6,
      "outputs": [
        {
          "output_type": "execute_result",
          "data": {
            "text/plain": [
              "['beest',\n",
              " 'chachalaca',\n",
              " 'contratempo',\n",
              " 'melanippus',\n",
              " 'misbelieve',\n",
              " 'subsultus',\n",
              " 'tereticaudate',\n",
              " 'threose',\n",
              " 'uneffaced',\n",
              " 'unterrifying']"
            ]
          },
          "metadata": {},
          "execution_count": 6
        }
      ]
    },
    {
      "cell_type": "markdown",
      "source": [
        "the first ten words are:\n",
        "beest\n",
        "chachalaca\n",
        "contratempo\n",
        "melanippus\n",
        "misbelieve\n",
        "subsultus\n",
        "tereticaudate\n",
        "threose\n",
        "uneffaced\n",
        "unterrifying"
      ],
      "metadata": {
        "id": "yoUxdSbL7D1Q"
      }
    },
    {
      "cell_type": "markdown",
      "source": [
        "#4"
      ],
      "metadata": {
        "id": "G_MmYeKth8Mb"
      }
    },
    {
      "cell_type": "code",
      "source": [
        "word_start_a = 0\n",
        "for word in wordlist:\n",
        "  if word.startswith('a'):\n",
        "      word_start_a += 1\n",
        "  else:\n",
        "      break\n",
        "\n",
        "word_start_a"
      ],
      "metadata": {
        "id": "rb57tH_6htX_",
        "outputId": "0a09b5e6-3820-42c9-9877-0fe88c60ce1a",
        "colab": {
          "base_uri": "https://localhost:8080/"
        }
      },
      "execution_count": 8,
      "outputs": [
        {
          "output_type": "execute_result",
          "data": {
            "text/plain": [
              "0"
            ]
          },
          "metadata": {},
          "execution_count": 8
        }
      ]
    },
    {
      "cell_type": "code",
      "source": [
        "words_starting_with_a = len(list(filter(lambda word: word.startswith('a'), wordlist)))\n",
        "words_starting_with_a"
      ],
      "metadata": {
        "id": "Fg8LAnypiaF-",
        "outputId": "c4652378-f109-49c7-e93e-69714e17865f",
        "colab": {
          "base_uri": "https://localhost:8080/"
        }
      },
      "execution_count": 19,
      "outputs": [
        {
          "output_type": "execute_result",
          "data": {
            "text/plain": [
              "16982"
            ]
          },
          "metadata": {},
          "execution_count": 19
        }
      ]
    },
    {
      "cell_type": "markdown",
      "source": [
        "there are 16982 words that start with a"
      ],
      "metadata": {
        "id": "tc1xS2uc69F1"
      }
    },
    {
      "cell_type": "markdown",
      "source": [
        "#5"
      ],
      "metadata": {
        "id": "1GbwuqNJiwZm"
      }
    },
    {
      "cell_type": "code",
      "source": [
        "word_with_q = 0\n",
        "\n",
        "for word in wordlist:\n",
        "  if 'q' in word:\n",
        "      word_with_q += 1\n",
        "  else:\n",
        "    break\n",
        "\n",
        "word_with_q"
      ],
      "metadata": {
        "id": "ynTa_scJixbh",
        "outputId": "3e9d8e55-73d5-41fa-f2e0-e5e5205eae98",
        "colab": {
          "base_uri": "https://localhost:8080/"
        }
      },
      "execution_count": 10,
      "outputs": [
        {
          "output_type": "execute_result",
          "data": {
            "text/plain": [
              "0"
            ]
          },
          "metadata": {},
          "execution_count": 10
        }
      ]
    },
    {
      "cell_type": "code",
      "source": [
        "words_starting_with_q = len(list(filter(lambda word: word.startswith('q'), wordlist)))\n",
        "words_starting_with_q"
      ],
      "metadata": {
        "id": "Ex7OhJ5L3Ck3",
        "outputId": "e19614bc-19ff-4ef7-aa5c-868a84c64bf3",
        "colab": {
          "base_uri": "https://localhost:8080/"
        }
      },
      "execution_count": 11,
      "outputs": [
        {
          "output_type": "execute_result",
          "data": {
            "text/plain": [
              "1148"
            ]
          },
          "metadata": {},
          "execution_count": 11
        }
      ]
    },
    {
      "cell_type": "code",
      "source": [
        "def count_words_without_e(wordlist):\n",
        "    count = 0\n",
        "    for word in wordlist:\n",
        "        if 'e' not in word:\n",
        "            count += 1\n",
        "    return count\n",
        "\n",
        "print(count_words_without_e(wordlist))"
      ],
      "metadata": {
        "id": "63TuCos75zEz",
        "outputId": "60a7b4d9-baf3-4d4f-e1b1-0d9481edff75",
        "colab": {
          "base_uri": "https://localhost:8080/"
        }
      },
      "execution_count": 32,
      "outputs": [
        {
          "output_type": "stream",
          "name": "stdout",
          "text": [
            "76966\n"
          ]
        }
      ]
    },
    {
      "cell_type": "code",
      "source": [
        "fraction_without_e = count_words_without_e(wordlist) / len(wordlist)\n",
        "fraction_without_e"
      ],
      "metadata": {
        "id": "v-A86Rmo8HBy",
        "outputId": "28a6c41e-eb80-436a-f997-51f89a97d1d5",
        "colab": {
          "base_uri": "https://localhost:8080/"
        }
      },
      "execution_count": 34,
      "outputs": [
        {
          "output_type": "execute_result",
          "data": {
            "text/plain": [
              "0.32828321603753463"
            ]
          },
          "metadata": {},
          "execution_count": 34
        }
      ]
    },
    {
      "cell_type": "markdown",
      "source": [
        "There are 1148 words that start with 'q' and the fraction of words without an 'e' is 0.32828321603753463"
      ],
      "metadata": {
        "id": "xz8RjrbK8UB8"
      }
    },
    {
      "cell_type": "markdown",
      "source": [
        "#6"
      ],
      "metadata": {
        "id": "nqt5JWrHjvVA"
      }
    },
    {
      "cell_type": "code",
      "source": [
        "import numpy as np\n",
        "wordarray = np.array(words)\n",
        "alphabet = [chr(i) for i in range(ord('a'), ord('z')+1)]\n",
        "print(alphabet)"
      ],
      "metadata": {
        "id": "oy3n6z2pjwpT",
        "outputId": "9a22ee4f-64ce-48f7-fc65-c5b3cf5280d3",
        "colab": {
          "base_uri": "https://localhost:8080/"
        }
      },
      "execution_count": 27,
      "outputs": [
        {
          "output_type": "stream",
          "name": "stdout",
          "text": [
            "['a', 'b', 'c', 'd', 'e', 'f', 'g', 'h', 'i', 'j', 'k', 'l', 'm', 'n', 'o', 'p', 'q', 'r', 's', 't', 'u', 'v', 'w', 'x', 'y', 'z']\n"
          ]
        }
      ]
    },
    {
      "cell_type": "markdown",
      "source": [
        "it contains all the letters in the alphabet"
      ],
      "metadata": {
        "id": "EaRbXHMNkGEy"
      }
    },
    {
      "cell_type": "markdown",
      "source": [
        "#7"
      ],
      "metadata": {
        "id": "OKS73_6akL3U"
      }
    },
    {
      "cell_type": "code",
      "source": [
        "import matplotlib.pyplot as plt\n",
        "alphabet_counts = {letter: 0 for letter in alphabet}\n",
        "for word in wordlist:\n",
        "  first_letter = word[0]\n",
        "  if first_letter in alphabet_counts:\n",
        "    alphabet_counts[first_letter] += 1\n",
        "\n",
        "count = list(alphabet_counts.values())\n",
        "plt.bar(alphabet, count, color = 'red')\n",
        "\n",
        "# Plotting\n",
        "plt.title('Number of words starting with each letter')\n",
        "plt.xlabel('Alphabet')\n",
        "plt.ylabel('Word Count')"
      ],
      "metadata": {
        "id": "Nc0-vJDKkMeS",
        "outputId": "93028684-1f0f-4bc4-efc7-a2514c6c49bd",
        "colab": {
          "base_uri": "https://localhost:8080/",
          "height": 490
        }
      },
      "execution_count": 28,
      "outputs": [
        {
          "output_type": "execute_result",
          "data": {
            "text/plain": [
              "Text(0, 0.5, 'Word Count')"
            ]
          },
          "metadata": {},
          "execution_count": 28
        },
        {
          "output_type": "display_data",
          "data": {
            "text/plain": [
              "<Figure size 640x480 with 1 Axes>"
            ],
            "image/png": "[encoded data removed]"
          },
          "metadata": {}
        }
      ]
    },
    {
      "cell_type": "markdown",
      "source": [
        "#8"
      ],
      "metadata": {
        "id": "3PgN-iDrlyvW"
      }
    },
    {
      "cell_type": "code",
      "source": [
        "sorted_wordlist = sorted(wordlist, key=len, reverse=True)\n",
        "six_longest_words = sorted_wordlist[:6]\n",
        "six_longest_words"
      ],
      "metadata": {
        "id": "0ktEo0OtlzrL",
        "outputId": "5ae89d32-7217-4d1a-a2b9-35419b916654",
        "colab": {
          "base_uri": "https://localhost:8080/"
        }
      },
      "execution_count": 29,
      "outputs": [
        {
          "output_type": "execute_result",
          "data": {
            "text/plain": [
              "['antidisestablishmentarianism',\n",
              " 'formaldehydesulphoxylate',\n",
              " 'thyroparathyroidectomize',\n",
              " 'scientificophilosophical',\n",
              " 'tetraiodophenolphthalein',\n",
              " 'pathologicopsychological']"
            ]
          },
          "metadata": {},
          "execution_count": 29
        }
      ]
    },
    {
      "cell_type": "markdown",
      "source": [
        "the longest words are:\n",
        "antidisestablishmentarianism\n",
        "formaldehydesulphoxylate\n",
        "thyroparathyroidectomize\n",
        "scientificophilosophical\n",
        "tetraiodophenolphthalein\n",
        "pathologicopsychological"
      ],
      "metadata": {
        "id": "oYipxbFV6mz2"
      }
    },
    {
      "cell_type": "markdown",
      "source": [
        "#9"
      ],
      "metadata": {
        "id": "kgYMxlevl_Av"
      }
    },
    {
      "cell_type": "code",
      "source": [
        "word_length_count = {}\n",
        "\n",
        "# occurrences of each word length\n",
        "for word in wordlist:\n",
        "    length = len(word)\n",
        "    if length in word_length_count:\n",
        "        word_length_count[length] += 1\n",
        "    else:\n",
        "        word_length_count[length] = 1\n",
        "\n",
        "# Extract data for plotting\n",
        "lengths = list(word_length_count.keys())\n",
        "counts = list(word_length_count.values())\n",
        "\n",
        "# Plotting\n",
        "plt.bar(lengths, counts, align='center', alpha=0.7)\n",
        "plt.xlabel('Word Length')\n",
        "plt.ylabel('Number of Words')\n",
        "plt.title('Histogram of Word Lengths')\n",
        "plt.show()"
      ],
      "metadata": {
        "id": "QMyIGXhcl_-o",
        "outputId": "2e3da729-69b7-4e14-9939-19dbc28d5cc8",
        "colab": {
          "base_uri": "https://localhost:8080/",
          "height": 472
        }
      },
      "execution_count": 30,
      "outputs": [
        {
          "output_type": "display_data",
          "data": {
            "text/plain": [
              "<Figure size 640x480 with 1 Axes>"
            ],
            "image/png": "[encoded data removed]"
          },
          "metadata": {}
        }
      ]
    },
    {
      "cell_type": "markdown",
      "source": [
        "The most common word length is 9\n",
        "\n",
        "\n"
      ],
      "metadata": {
        "id": "NE1RtXn7mbC3"
      }
    },
    {
      "cell_type": "markdown",
      "source": [
        "#11"
      ],
      "metadata": {
        "id": "UAvBmDwMmeGE"
      }
    },
    {
      "cell_type": "code",
      "source": [
        "#  containing both 'v' and 'a'\n",
        "words_with_va = [word for word in wordlist if 'v' in word and 'a' in word]\n",
        "count_va = len(words_with_va)\n",
        "\n",
        "# words containing both 'w' and 'l'\n",
        "words_with_wl = [word for word in wordlist if 'w' in word and 'l' in word]\n",
        "count_wl = len(words_with_wl)\n",
        "\n",
        "print(\"Number of words containing both 'v' and 'a':\", count_va)\n",
        "print(\"Number of words containing both 'w' and 'l':\", count_wl)"
      ],
      "metadata": {
        "id": "s_OszfFQmfGm",
        "outputId": "89c4cf24-8e77-49b4-9e7c-cc00a9087fac",
        "colab": {
          "base_uri": "https://localhost:8080/"
        }
      },
      "execution_count": 31,
      "outputs": [
        {
          "output_type": "stream",
          "name": "stdout",
          "text": [
            "Number of words containing both 'v' and 'a': 11347\n",
            "Number of words containing both 'w' and 'l': 4822\n"
          ]
        }
      ]
    },
    {
      "cell_type": "markdown",
      "source": [
        "The number of words containing both 'v' and 'a' is 11347\n",
        "and the number of words containing both 'w' and 'l' is 4822"
      ],
      "metadata": {
        "id": "FgSjn78j6jpO"
      }
    }
  ]
}