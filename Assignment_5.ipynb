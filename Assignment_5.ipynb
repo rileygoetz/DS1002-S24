{
  "nbformat": 4,
  "nbformat_minor": 0,
  "metadata": {
    "colab": {
      "provenance": [],
      "authorship_tag": "ABX9TyMFBLQsBVRfGsP7j4sBAZWa",
      "include_colab_link": true
    },
    "kernelspec": {
      "name": "python3",
      "display_name": "Python 3"
    },
    "language_info": {
      "name": "python"
    }
  },
  "cells": [
    {
      "cell_type": "markdown",
      "metadata": {
        "id": "view-in-github",
        "colab_type": "text"
      },
      "source": [
        "<a href=\"https://colab.research.google.com/github/rileygoetz/DS1002-S24/blob/main/Assignment_5.ipynb\" target=\"_parent\"><img src=\"https://colab.research.google.com/assets/colab-badge.svg\" alt=\"Open In Colab\"/></a>"
      ]
    },
    {
      "cell_type": "code",
      "execution_count": 1,
      "metadata": {
        "colab": {
          "base_uri": "https://localhost:8080/"
        },
        "id": "OopYZ1cnDKMQ",
        "outputId": "688aa97a-2863-4576-e5c8-e4cf922678b9"
      },
      "outputs": [
        {
          "output_type": "stream",
          "name": "stdout",
          "text": [
            "Collecting english_words\n",
            "  Downloading english-words-2.0.1.tar.gz (8.2 MB)\n",
            "\u001b[2K     \u001b[90m━━━━━━━━━━━━━━━━━━━━━━━━━━━━━━━━━━━━━━━━\u001b[0m \u001b[32m8.2/8.2 MB\u001b[0m \u001b[31m20.4 MB/s\u001b[0m eta \u001b[36m0:00:00\u001b[0m\n",
            "\u001b[?25h  Installing build dependencies ... \u001b[?25l\u001b[?25hdone\n",
            "  Getting requirements to build wheel ... \u001b[?25l\u001b[?25hdone\n",
            "  Preparing metadata (pyproject.toml) ... \u001b[?25l\u001b[?25hdone\n",
            "Building wheels for collected packages: english_words\n",
            "  Building wheel for english_words (pyproject.toml) ... \u001b[?25l\u001b[?25hdone\n",
            "  Created wheel for english_words: filename=english_words-2.0.1-py3-none-any.whl size=8196238 sha256=76acb8e7744a8dc757ef1fd33ae9d9b551f5e299a56c6060006b4add6d2dca42\n",
            "  Stored in directory: /root/.cache/pip/wheels/f0/e6/d9/16a123647999fe535f03a36e7af23eef203736d84c7ca25b0b\n",
            "Successfully built english_words\n",
            "Installing collected packages: english_words\n",
            "Successfully installed english_words-2.0.1\n"
          ]
        }
      ],
      "source": [
        "!pip install english_words\n",
        "from english_words import get_english_words_set\n",
        "words = get_english_words_set(['web2'], lower=True)\n"
      ]
    },
    {
      "cell_type": "markdown",
      "source": [
        "#1"
      ],
      "metadata": {
        "id": "FJ_m6-Wth0L8"
      }
    },
    {
      "cell_type": "code",
      "source": [
        "print(type(words))\n",
        "wordlist= list(words)\n",
        "print(type(wordlist))\n",
        "\n",
        "len(wordlist)"
      ],
      "metadata": {
        "colab": {
          "base_uri": "https://localhost:8080/"
        },
        "id": "5W_0Yf4eDNrO",
        "outputId": "54cb84b4-dfd0-49e3-9e63-1007ac703bc7"
      },
      "execution_count": 2,
      "outputs": [
        {
          "output_type": "stream",
          "name": "stdout",
          "text": [
            "<class 'set'>\n",
            "<class 'list'>\n"
          ]
        },
        {
          "output_type": "execute_result",
          "data": {
            "text/plain": [
              "234450"
            ]
          },
          "metadata": {},
          "execution_count": 2
        }
      ]
    },
    {
      "cell_type": "markdown",
      "source": [
        "The length of the word list is 234,450"
      ],
      "metadata": {
        "id": "8zaTIR7sDou4"
      }
    },
    {
      "cell_type": "markdown",
      "source": [
        "#2"
      ],
      "metadata": {
        "id": "J1AsBqVNh4MF"
      }
    },
    {
      "cell_type": "code",
      "source": [
        "first_ten = wordlist[:10]\n",
        "first_ten"
      ],
      "metadata": {
        "colab": {
          "base_uri": "https://localhost:8080/"
        },
        "id": "Y1_kV5mQD0i7",
        "outputId": "f1b89ac0-9948-47a7-877f-0f9853469298"
      },
      "execution_count": 3,
      "outputs": [
        {
          "output_type": "execute_result",
          "data": {
            "text/plain": [
              "['archdeceiver',\n",
              " 'cissampelos',\n",
              " 'mezzotint',\n",
              " 'moriche',\n",
              " 'mesenchymal',\n",
              " 'supplace',\n",
              " 'tangham',\n",
              " 'lawton',\n",
              " 'treeify',\n",
              " 'multigrapher']"
            ]
          },
          "metadata": {},
          "execution_count": 3
        }
      ]
    },
    {
      "cell_type": "markdown",
      "source": [
        "we notice the words are given in random order and not alphabetically"
      ],
      "metadata": {
        "id": "V6YiwC7rhYCp"
      }
    },
    {
      "cell_type": "markdown",
      "source": [
        "#3"
      ],
      "metadata": {
        "id": "ztukMwxkh6zV"
      }
    },
    {
      "cell_type": "code",
      "source": [
        "alpha_list = sorted(first_ten)\n",
        "first_ten_alpha = alpha_list[:10]\n",
        "first_ten_alpha"
      ],
      "metadata": {
        "id": "DHYRjA2mhc4Q",
        "outputId": "7eecc544-7cbd-4f85-d8e5-4a9f0bc995a9",
        "colab": {
          "base_uri": "https://localhost:8080/"
        }
      },
      "execution_count": 5,
      "outputs": [
        {
          "output_type": "execute_result",
          "data": {
            "text/plain": [
              "['archdeceiver',\n",
              " 'cissampelos',\n",
              " 'lawton',\n",
              " 'mesenchymal',\n",
              " 'mezzotint',\n",
              " 'moriche',\n",
              " 'multigrapher',\n",
              " 'supplace',\n",
              " 'tangham',\n",
              " 'treeify']"
            ]
          },
          "metadata": {},
          "execution_count": 5
        }
      ]
    },
    {
      "cell_type": "markdown",
      "source": [
        "#4"
      ],
      "metadata": {
        "id": "G_MmYeKth8Mb"
      }
    },
    {
      "cell_type": "code",
      "source": [
        "word_start_a = 0\n",
        "for word in alpha_list:\n",
        "  if word.startswith('a'):\n",
        "      word_start_a += 1\n",
        "  else:\n",
        "      break\n",
        "\n",
        "word_start_a"
      ],
      "metadata": {
        "id": "rb57tH_6htX_",
        "outputId": "0d557e74-bfa7-4b39-b78f-5bfcb7621397",
        "colab": {
          "base_uri": "https://localhost:8080/"
        }
      },
      "execution_count": 9,
      "outputs": [
        {
          "output_type": "execute_result",
          "data": {
            "text/plain": [
              "1"
            ]
          },
          "metadata": {},
          "execution_count": 9
        }
      ]
    },
    {
      "cell_type": "code",
      "source": [
        "words_starting_with_a = len(list(filter(lambda word: word.startswith('a'), alpha_list)))\n",
        "words_starting_with_a"
      ],
      "metadata": {
        "id": "Fg8LAnypiaF-",
        "outputId": "d0512408-c6dc-4734-90c1-65c56a0f05da",
        "colab": {
          "base_uri": "https://localhost:8080/"
        }
      },
      "execution_count": 11,
      "outputs": [
        {
          "output_type": "execute_result",
          "data": {
            "text/plain": [
              "1"
            ]
          },
          "metadata": {},
          "execution_count": 11
        }
      ]
    },
    {
      "cell_type": "markdown",
      "source": [
        "#5"
      ],
      "metadata": {
        "id": "1GbwuqNJiwZm"
      }
    },
    {
      "cell_type": "code",
      "source": [
        "word_with_q = 0\n",
        "\n",
        "for word in alpha_list:\n",
        "  if 'q' in word:\n",
        "      word_with_q += 1\n",
        "  else:\n",
        "    break\n",
        "\n",
        "word_with_q"
      ],
      "metadata": {
        "id": "ynTa_scJixbh",
        "outputId": "924204a0-5821-4542-d327-7cc3e1c7415b",
        "colab": {
          "base_uri": "https://localhost:8080/"
        }
      },
      "execution_count": 13,
      "outputs": [
        {
          "output_type": "execute_result",
          "data": {
            "text/plain": [
              "0"
            ]
          },
          "metadata": {},
          "execution_count": 13
        }
      ]
    },
    {
      "cell_type": "code",
      "source": [
        "word_without_e = 0\n",
        "\n",
        "for word in alpha_list:\n",
        "  if 'e' not in word:\n",
        "    word_without_e += 1\n",
        "  else:\n",
        "    break\n",
        "\n",
        "print(word_without_e)\n",
        "\n",
        "fraction_without_e = word_without_e / len(alpha_list)\n",
        "fraction_without_e"
      ],
      "metadata": {
        "id": "gleg08-djMZD",
        "outputId": "500e56f4-d473-4d88-c00f-03b93fb82170",
        "colab": {
          "base_uri": "https://localhost:8080/"
        }
      },
      "execution_count": 15,
      "outputs": [
        {
          "output_type": "stream",
          "name": "stdout",
          "text": [
            "0\n"
          ]
        },
        {
          "output_type": "execute_result",
          "data": {
            "text/plain": [
              "0.0"
            ]
          },
          "metadata": {},
          "execution_count": 15
        }
      ]
    },
    {
      "cell_type": "markdown",
      "source": [
        "#6"
      ],
      "metadata": {
        "id": "nqt5JWrHjvVA"
      }
    },
    {
      "cell_type": "code",
      "source": [
        "import numpy as np\n",
        "wordarray = np.array(words)\n",
        "alphabet = [chr(i) for i in range(ord('a'), ord('z')+1)]\n",
        "print(alphabet)"
      ],
      "metadata": {
        "id": "oy3n6z2pjwpT",
        "outputId": "c8f6bf05-7034-413b-af6b-f65daa3401c4",
        "colab": {
          "base_uri": "https://localhost:8080/"
        }
      },
      "execution_count": 16,
      "outputs": [
        {
          "output_type": "stream",
          "name": "stdout",
          "text": [
            "['a', 'b', 'c', 'd', 'e', 'f', 'g', 'h', 'i', 'j', 'k', 'l', 'm', 'n', 'o', 'p', 'q', 'r', 's', 't', 'u', 'v', 'w', 'x', 'y', 'z']\n"
          ]
        }
      ]
    },
    {
      "cell_type": "markdown",
      "source": [
        "it contains all the letters in the alphabet"
      ],
      "metadata": {
        "id": "EaRbXHMNkGEy"
      }
    },
    {
      "cell_type": "markdown",
      "source": [
        "#7"
      ],
      "metadata": {
        "id": "OKS73_6akL3U"
      }
    },
    {
      "cell_type": "code",
      "source": [
        "import matplotlib.pyplot as plt\n",
        "alphabet_counts = {letter: 0 for letter in alphabet}\n",
        "for word in alpha_list:\n",
        "  first_letter = word[0]\n",
        "  if first_letter in alphabet_counts:\n",
        "    alphabet_counts[first_letter] += 1\n",
        "\n",
        "count = list(alphabet_counts.values())\n",
        "plt.bar(alphabet, count, color = 'red')\n",
        "\n",
        "# Plotting\n",
        "plt.title('Number of words starting with each letter')\n",
        "plt.xlabel('Alphabet')\n",
        "plt.ylabel('Word Count')"
      ],
      "metadata": {
        "id": "Nc0-vJDKkMeS",
        "outputId": "8a429ff4-6f92-4ac8-fba9-3eb24a8cfbd3",
        "colab": {
          "base_uri": "https://localhost:8080/",
          "height": 490
        }
      },
      "execution_count": 19,
      "outputs": [
        {
          "output_type": "execute_result",
          "data": {
            "text/plain": [
              "Text(0, 0.5, 'Word Count')"
            ]
          },
          "metadata": {},
          "execution_count": 19
        },
        {
          "output_type": "display_data",
          "data": {
            "text/plain": [
              "<Figure size 640x480 with 1 Axes>"
            ],
            "image/png": "[encoded data removed]"
          },
          "metadata": {}
        }
      ]
    },
    {
      "cell_type": "markdown",
      "source": [
        "#8"
      ],
      "metadata": {
        "id": "3PgN-iDrlyvW"
      }
    },
    {
      "cell_type": "code",
      "source": [
        "sorted_wordlist = sorted(alpha_list, key=len, reverse=True)\n",
        "six_longest_words = sorted_wordlist[:6]\n",
        "six_longest_words"
      ],
      "metadata": {
        "id": "0ktEo0OtlzrL",
        "outputId": "87cf18a0-3dcf-4f87-c627-7d9f70b39f65",
        "colab": {
          "base_uri": "https://localhost:8080/"
        }
      },
      "execution_count": 20,
      "outputs": [
        {
          "output_type": "execute_result",
          "data": {
            "text/plain": [
              "['archdeceiver',\n",
              " 'multigrapher',\n",
              " 'cissampelos',\n",
              " 'mesenchymal',\n",
              " 'mezzotint',\n",
              " 'supplace']"
            ]
          },
          "metadata": {},
          "execution_count": 20
        }
      ]
    },
    {
      "cell_type": "markdown",
      "source": [
        "#9"
      ],
      "metadata": {
        "id": "kgYMxlevl_Av"
      }
    },
    {
      "cell_type": "code",
      "source": [
        "word_length_count = {}\n",
        "\n",
        "# occurrences of each word length\n",
        "for word in alpha_list:\n",
        "    length = len(word)\n",
        "    if length in word_length_count:\n",
        "        word_length_count[length] += 1\n",
        "    else:\n",
        "        word_length_count[length] = 1\n",
        "\n",
        "# Extract data for plotting\n",
        "lengths = list(word_length_count.keys())\n",
        "counts = list(word_length_count.values())\n",
        "\n",
        "# Plotting\n",
        "plt.bar(lengths, counts, align='center', alpha=0.7)\n",
        "plt.xlabel('Word Length')\n",
        "plt.ylabel('Number of Words')\n",
        "plt.title('Histogram of Word Lengths')\n",
        "plt.show()"
      ],
      "metadata": {
        "id": "QMyIGXhcl_-o",
        "outputId": "e1fad1f9-14c9-49d5-a508-ef9051f64343",
        "colab": {
          "base_uri": "https://localhost:8080/",
          "height": 472
        }
      },
      "execution_count": 21,
      "outputs": [
        {
          "output_type": "display_data",
          "data": {
            "text/plain": [
              "<Figure size 640x480 with 1 Axes>"
            ],
            "image/png": "[encoded data removed]"
          },
          "metadata": {}
        }
      ]
    },
    {
      "cell_type": "markdown",
      "source": [
        "The most common word length is 7"
      ],
      "metadata": {
        "id": "NE1RtXn7mbC3"
      }
    },
    {
      "cell_type": "markdown",
      "source": [
        "#11"
      ],
      "metadata": {
        "id": "UAvBmDwMmeGE"
      }
    },
    {
      "cell_type": "code",
      "source": [
        "#  containing both 'v' and 'a'\n",
        "words_with_va = [word for word in alpha_list if 'v' in word and 'a' in word]\n",
        "count_va = len(words_with_va)\n",
        "\n",
        "# words containing both 'w' and 'l'\n",
        "words_with_wl = [word for word in alpha_list if 'w' in word and 'l' in word]\n",
        "count_wl = len(words_with_wl)\n",
        "\n",
        "print(\"Number of words containing both 'v' and 'a':\", count_va)\n",
        "print(\"Number of words containing both 'w' and 'l':\", count_wl)"
      ],
      "metadata": {
        "id": "s_OszfFQmfGm",
        "outputId": "41708d4c-a93e-4107-c01e-53f486be3b5f",
        "colab": {
          "base_uri": "https://localhost:8080/"
        }
      },
      "execution_count": 22,
      "outputs": [
        {
          "output_type": "stream",
          "name": "stdout",
          "text": [
            "Number of words containing both 'v' and 'a': 1\n",
            "Number of words containing both 'w' and 'l': 1\n"
          ]
        }
      ]
    }
  ]
}