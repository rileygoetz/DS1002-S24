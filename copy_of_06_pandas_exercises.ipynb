{
  "cells": [
    {
      "cell_type": "markdown",
      "metadata": {
        "id": "view-in-github",
        "colab_type": "text"
      },
      "source": [
        "<a href=\"https://colab.research.google.com/github/rileygoetz/DS1002-S24/blob/main/copy_of_06_pandas_exercises.ipynb\" target=\"_parent\"><img src=\"https://colab.research.google.com/assets/colab-badge.svg\" alt=\"Open In Colab\"/></a>"
      ]
    },
    {
      "cell_type": "markdown",
      "metadata": {
        "id": "L_nKffgWPs-1"
      },
      "source": [
        "## Pandas exercises 1\n",
        "\n",
        "1. Import dependencies"
      ]
    },
    {
      "cell_type": "code",
      "execution_count": null,
      "metadata": {
        "id": "hASl6yoNPs-2"
      },
      "outputs": [],
      "source": [
        "import pandas as pd"
      ]
    },
    {
      "cell_type": "markdown",
      "metadata": {
        "id": "33KUt_fEPs-2"
      },
      "source": [
        "---"
      ]
    },
    {
      "cell_type": "code",
      "execution_count": null,
      "metadata": {
        "id": "ZZmr1aIoPs-3"
      },
      "outputs": [],
      "source": [
        "list = [98, 24, 46, 87, 33]"
      ]
    },
    {
      "cell_type": "markdown",
      "metadata": {
        "id": "jGSEPEqXPs-3"
      },
      "source": [
        "2. Convert `list` to a pandas series using `pd.Series`"
      ]
    },
    {
      "cell_type": "code",
      "execution_count": null,
      "metadata": {
        "id": "nZ1y9HF6Ps-3",
        "colab": {
          "base_uri": "https://localhost:8080/"
        },
        "outputId": "7a35d55b-2348-4bbf-dc34-b17c88089be5"
      },
      "outputs": [
        {
          "output_type": "stream",
          "name": "stdout",
          "text": [
            "0    98\n",
            "1    24\n",
            "2    46\n",
            "3    87\n",
            "4    33\n",
            "dtype: int64\n"
          ]
        }
      ],
      "source": [
        "series = pd.Series(list)\n",
        "print(series)"
      ]
    },
    {
      "cell_type": "markdown",
      "metadata": {
        "id": "rORNi5YyPs-4"
      },
      "source": [
        "**3**. Take the above series and add an index that starts at 2 and steps by 3"
      ]
    },
    {
      "cell_type": "code",
      "execution_count": null,
      "metadata": {
        "id": "YC8f3lAMPs-4",
        "colab": {
          "base_uri": "https://localhost:8080/"
        },
        "outputId": "5b17edbb-add3-4b38-bd14-a6068ff3935d"
      },
      "outputs": [
        {
          "output_type": "stream",
          "name": "stdout",
          "text": [
            "2     98\n",
            "5     24\n",
            "8     46\n",
            "11    87\n",
            "14    33\n",
            "dtype: int64\n"
          ]
        }
      ],
      "source": [
        "index = range(2, 2 + len(list) * 3, 3)\n",
        "series_with_index = pd.Series(list, index=index)\n",
        "print(series_with_index)"
      ]
    },
    {
      "cell_type": "markdown",
      "metadata": {
        "id": "2P199KkwPs-4"
      },
      "source": [
        "4. Create a dictionary of 4 names, ages, and careers   \n",
        "Convert this dictionary to a pandas dataframe: `df`.  \n",
        "Print the dataframe."
      ]
    },
    {
      "cell_type": "code",
      "execution_count": null,
      "metadata": {
        "id": "lWoGNi5hPs-5",
        "colab": {
          "base_uri": "https://localhost:8080/"
        },
        "outputId": "28e1c96f-ad5e-476c-db0d-8b130014de31"
      },
      "outputs": [
        {
          "output_type": "stream",
          "name": "stdout",
          "text": [
            "     Name  Age      Career\n",
            "0    Abby   19     Teacher\n",
            "1   Julia   20      Doctor\n",
            "2  Aleeza   23  Accountant\n",
            "3   Addie   18      Lawyer\n"
          ]
        }
      ],
      "source": [
        "data = {\n",
        "    'Name': ['Abby', 'Julia', 'Aleeza', 'Addie'],\n",
        "    'Age': [19, 20, 23, 18],\n",
        "    'Career': ['Teacher', 'Doctor', 'Accountant', 'Lawyer']\n",
        "}\n",
        "df = pd.DataFrame(data)\n",
        "print(df)"
      ]
    },
    {
      "cell_type": "markdown",
      "metadata": {
        "id": "TD-Ej1K_Ps-5"
      },
      "source": [
        "5. Name the index of `df` 'participant_id'.  \n",
        "Print `df`."
      ]
    },
    {
      "cell_type": "code",
      "execution_count": null,
      "metadata": {
        "id": "_54NO6pRPs-5",
        "colab": {
          "base_uri": "https://localhost:8080/"
        },
        "outputId": "d1e434ba-e951-4d6e-fb5e-0a5b3f6943e8"
      },
      "outputs": [
        {
          "output_type": "stream",
          "name": "stdout",
          "text": [
            "                 Name  Age      Career\n",
            "particpant_id                         \n",
            "0                Abby   19     Teacher\n",
            "1               Julia   20      Doctor\n",
            "2              Aleeza   23  Accountant\n",
            "3               Addie   18      Lawyer\n"
          ]
        }
      ],
      "source": [
        "df.index.name = 'particpant_id'\n",
        "print(df)"
      ]
    },
    {
      "cell_type": "markdown",
      "metadata": {
        "id": "-JXKN55IPs-5"
      },
      "source": [
        "6. Use a pandas function to determine the data types of the columns of `df`."
      ]
    },
    {
      "cell_type": "code",
      "execution_count": null,
      "metadata": {
        "id": "pmbPdPYmPs-5",
        "colab": {
          "base_uri": "https://localhost:8080/"
        },
        "outputId": "9d0e262a-7b92-4e09-a1c6-569499eb3100"
      },
      "outputs": [
        {
          "output_type": "stream",
          "name": "stdout",
          "text": [
            "Name      object\n",
            "Age        int64\n",
            "Career    object\n",
            "dtype: object\n"
          ]
        }
      ],
      "source": [
        "print(df.dtypes)"
      ]
    },
    {
      "cell_type": "markdown",
      "metadata": {
        "id": "67Yv1vrcPs-5"
      },
      "source": [
        "7. Using bracket notation, reference column `name`"
      ]
    },
    {
      "cell_type": "code",
      "execution_count": null,
      "metadata": {
        "id": "KvYDyocgPs-6",
        "colab": {
          "base_uri": "https://localhost:8080/"
        },
        "outputId": "5d842550-98a2-41e4-a478-d2ee26b91530"
      },
      "outputs": [
        {
          "output_type": "stream",
          "name": "stdout",
          "text": [
            "particpant_id\n",
            "0      Abby\n",
            "1     Julia\n",
            "2    Aleeza\n",
            "3     Addie\n",
            "Name: Name, dtype: object\n"
          ]
        }
      ],
      "source": [
        "name_column = df['Name']\n",
        "print(name_column)"
      ]
    },
    {
      "cell_type": "markdown",
      "metadata": {
        "id": "m3cxo1_DPs-6"
      },
      "source": [
        "8. Using dot notation, reference column `name`"
      ]
    },
    {
      "cell_type": "code",
      "execution_count": null,
      "metadata": {
        "id": "1GWDNZpDPs-6",
        "colab": {
          "base_uri": "https://localhost:8080/"
        },
        "outputId": "5279da65-ae7f-4ee3-f57a-820f6618b5f9"
      },
      "outputs": [
        {
          "output_type": "stream",
          "name": "stdout",
          "text": [
            "particpant_id\n",
            "0      Abby\n",
            "1     Julia\n",
            "2    Aleeza\n",
            "3     Addie\n",
            "Name: Name, dtype: object\n"
          ]
        }
      ],
      "source": [
        "name_column = df.Name\n",
        "print(name_column)"
      ]
    },
    {
      "cell_type": "markdown",
      "metadata": {
        "id": "QXcydAo-Ps-6"
      },
      "source": [
        "8. Reference column `name` and have it returned in a dataframe."
      ]
    },
    {
      "cell_type": "code",
      "execution_count": null,
      "metadata": {
        "id": "Es6jw5eKPs-6",
        "colab": {
          "base_uri": "https://localhost:8080/"
        },
        "outputId": "9092f94e-24e7-4701-8653-157d915cf0ff"
      },
      "outputs": [
        {
          "output_type": "stream",
          "name": "stdout",
          "text": [
            "                 Name\n",
            "particpant_id        \n",
            "0                Abby\n",
            "1               Julia\n",
            "2              Aleeza\n",
            "3               Addie\n"
          ]
        }
      ],
      "source": [
        "name_column_df = df[['Name']]\n",
        "print(name_column_df)"
      ]
    },
    {
      "cell_type": "markdown",
      "metadata": {
        "id": "FGvwXkmsPs-6"
      },
      "source": [
        "*9*. Show the 3rd element in column `career`."
      ]
    },
    {
      "cell_type": "code",
      "execution_count": null,
      "metadata": {
        "id": "9DFRMXJ-Ps-6",
        "colab": {
          "base_uri": "https://localhost:8080/"
        },
        "outputId": "4236388f-283c-494f-b916-c77374ac8023"
      },
      "outputs": [
        {
          "output_type": "stream",
          "name": "stdout",
          "text": [
            "Accountant\n"
          ]
        }
      ],
      "source": [
        "third_career_element = df['Career'].iloc[2]\n",
        "print(third_career_element)"
      ]
    },
    {
      "cell_type": "markdown",
      "source": [
        "10.  Load the `iris` dataset that we used in class.  Use `iris` as the name of your data frame."
      ],
      "metadata": {
        "id": "rRH599bKtjbE"
      }
    },
    {
      "cell_type": "code",
      "source": [
        "from sklearn.datasets import load_iris\n",
        "import pandas as pd\n",
        "iris_data = load_iris()\n",
        "iris = pd.DataFrame(data=iris_data.data, columns=iris_data.feature_names)\n",
        "iris['species'] = iris_data.target\n",
        "print(iris)"
      ],
      "metadata": {
        "id": "zzf2X8hptu02",
        "colab": {
          "base_uri": "https://localhost:8080/"
        },
        "outputId": "310a499e-c76e-4b4d-bf72-80cde523a3ea"
      },
      "execution_count": null,
      "outputs": [
        {
          "output_type": "stream",
          "name": "stdout",
          "text": [
            "     sepal length (cm)  sepal width (cm)  petal length (cm)  petal width (cm)  \\\n",
            "0                  5.1               3.5                1.4               0.2   \n",
            "1                  4.9               3.0                1.4               0.2   \n",
            "2                  4.7               3.2                1.3               0.2   \n",
            "3                  4.6               3.1                1.5               0.2   \n",
            "4                  5.0               3.6                1.4               0.2   \n",
            "..                 ...               ...                ...               ...   \n",
            "145                6.7               3.0                5.2               2.3   \n",
            "146                6.3               2.5                5.0               1.9   \n",
            "147                6.5               3.0                5.2               2.0   \n",
            "148                6.2               3.4                5.4               2.3   \n",
            "149                5.9               3.0                5.1               1.8   \n",
            "\n",
            "     species  \n",
            "0          0  \n",
            "1          0  \n",
            "2          0  \n",
            "3          0  \n",
            "4          0  \n",
            "..       ...  \n",
            "145        2  \n",
            "146        2  \n",
            "147        2  \n",
            "148        2  \n",
            "149        2  \n",
            "\n",
            "[150 rows x 5 columns]\n"
          ]
        }
      ]
    },
    {
      "cell_type": "markdown",
      "source": [
        "11.  What is the correlation between the variables `sepal_length` and `sepal_width` for all the irises?\n",
        "\n",
        "\n",
        "\n",
        "\n",
        "\n"
      ],
      "metadata": {
        "id": "AKz6-jVWtvSB"
      }
    },
    {
      "cell_type": "code",
      "source": [
        "correlation = iris['sepal length (cm)'].corr(iris['sepal width (cm)'])\n",
        "print(\"Correlation between sepal_length and sepal_width:\", correlation)"
      ],
      "metadata": {
        "id": "hee42cCiuUaQ",
        "colab": {
          "base_uri": "https://localhost:8080/"
        },
        "outputId": "bc96714c-64fc-4ad1-e574-ae115d09d2c3"
      },
      "execution_count": null,
      "outputs": [
        {
          "output_type": "stream",
          "name": "stdout",
          "text": [
            "Correlation between sepal_length and sepal_width: -0.11756978413300208\n"
          ]
        }
      ]
    },
    {
      "cell_type": "markdown",
      "source": [
        "12.  Which of the three species has the highest correlation between `sepal_length` and `sepal_width`?  Show any calculations you use to support your answer."
      ],
      "metadata": {
        "id": "0FftiYs-uU0S"
      }
    },
    {
      "cell_type": "code",
      "source": [
        "correlation_setosa = iris[iris['species'] == 0]['sepal length (cm)'].corr(iris[iris['species'] == 0]['sepal width (cm)'])\n",
        "correlation_versicolor = iris[iris['species'] == 1]['sepal length (cm)'].corr(iris[iris['species'] == 1]['sepal width (cm)'])\n",
        "correlation_virginica = iris[iris['species'] == 2]['sepal length (cm)'].corr(iris[iris['species'] == 2]['sepal width (cm)'])\n",
        "\n",
        "# maximum correlation\n",
        "max_correlation = max(correlation_setosa, correlation_versicolor, correlation_virginica)\n",
        "\n",
        "# highest correlation\n",
        "if max_correlation == correlation_setosa:\n",
        "    species_with_max_correlation = 'Setosa'\n",
        "elif max_correlation == correlation_versicolor:\n",
        "    species_with_max_correlation = 'Versicolor'\n",
        "else:\n",
        "    species_with_max_correlation = 'Virginica'\n",
        "\n",
        "print(\"Species with the highest correlation between sepal_length and sepal_width:\", species_with_max_correlation)"
      ],
      "metadata": {
        "id": "TFGICsBQulQ-",
        "colab": {
          "base_uri": "https://localhost:8080/"
        },
        "outputId": "b95a3b54-126b-4601-8f16-dfae22cd39f9"
      },
      "execution_count": null,
      "outputs": [
        {
          "output_type": "stream",
          "name": "stdout",
          "text": [
            "Species with the highest correlation between sepal_length and sepal_width: Setosa\n"
          ]
        }
      ]
    },
    {
      "cell_type": "markdown",
      "source": [
        "13.  Among the four variables, the two that are most negatively correlated (overall) are `sepal_width` and `petal_length`.  (How do we know this?)  Determine the same thing but for each species separately:  for each species, which two variables have the most negative (or the least positive) correlation?  Again, include calculations to support your answer."
      ],
      "metadata": {
        "id": "ZEwy0920u1NY"
      }
    },
    {
      "cell_type": "code",
      "source": [
        "overall_correlation_matrix = iris.corr()\n",
        "\n",
        "#most negative correlation coefficient\n",
        "most_negative_correlation_overall = overall_correlation_matrix.unstack().sort_values().head(5)\n",
        "\n",
        "print(\"Overall most negatively correlated variables:\")\n",
        "print(most_negative_correlation_overall)"
      ],
      "metadata": {
        "id": "bcqtPTtHvjLI",
        "colab": {
          "base_uri": "https://localhost:8080/"
        },
        "outputId": "1b49e0f7-7003-4ff0-b10e-0ba0afa185b9"
      },
      "execution_count": null,
      "outputs": [
        {
          "output_type": "stream",
          "name": "stdout",
          "text": [
            "Overall most negatively correlated variables:\n",
            "sepal width (cm)   petal length (cm)   -0.428440\n",
            "petal length (cm)  sepal width (cm)    -0.428440\n",
            "species            sepal width (cm)    -0.426658\n",
            "sepal width (cm)   species             -0.426658\n",
            "petal width (cm)   sepal width (cm)    -0.366126\n",
            "dtype: float64\n"
          ]
        }
      ]
    },
    {
      "cell_type": "code",
      "source": [
        "def most_negative_correlation_species(species):\n",
        "    species_df = iris[iris['species'] == species]\n",
        "    species_correlation_matrix = species_df.corr()\n",
        "    most_negative_correlation_species = species_correlation_matrix.unstack().sort_values().head(5)\n",
        "    return most_negative_correlation_species\n",
        "\n",
        "# Calculate for each species\n",
        "most_negative_correlation_setosa = most_negative_correlation_species(0)\n",
        "most_negative_correlation_versicolor = most_negative_correlation_species(1)\n",
        "most_negative_correlation_virginica = most_negative_correlation_species(2)\n",
        "\n",
        "print(\"\\nMost negatively correlated variables for Setosa:\")\n",
        "print(most_negative_correlation_setosa)\n",
        "\n",
        "print(\"\\nMost negatively correlated variables for Versicolor:\")\n",
        "print(most_negative_correlation_versicolor)\n",
        "\n",
        "print(\"\\nMost negatively correlated variables for Virginica:\")\n",
        "print(most_negative_correlation_virginica)"
      ],
      "metadata": {
        "colab": {
          "base_uri": "https://localhost:8080/"
        },
        "id": "wiHlsntCgpm1",
        "outputId": "b7442e8f-e42c-46c0-c43f-79ba6443e13a"
      },
      "execution_count": null,
      "outputs": [
        {
          "output_type": "stream",
          "name": "stdout",
          "text": [
            "\n",
            "Most negatively correlated variables for Setosa:\n",
            "sepal width (cm)   petal length (cm)    0.177700\n",
            "petal length (cm)  sepal width (cm)     0.177700\n",
            "sepal width (cm)   petal width (cm)     0.232752\n",
            "petal width (cm)   sepal width (cm)     0.232752\n",
            "sepal length (cm)  petal length (cm)    0.267176\n",
            "dtype: float64\n",
            "\n",
            "Most negatively correlated variables for Versicolor:\n",
            "sepal length (cm)  sepal width (cm)     0.525911\n",
            "sepal width (cm)   sepal length (cm)    0.525911\n",
            "sepal length (cm)  petal width (cm)     0.546461\n",
            "petal width (cm)   sepal length (cm)    0.546461\n",
            "sepal width (cm)   petal length (cm)    0.560522\n",
            "dtype: float64\n",
            "\n",
            "Most negatively correlated variables for Virginica:\n",
            "sepal length (cm)  petal width (cm)     0.281108\n",
            "petal width (cm)   sepal length (cm)    0.281108\n",
            "petal length (cm)  petal width (cm)     0.322108\n",
            "petal width (cm)   petal length (cm)    0.322108\n",
            "sepal width (cm)   petal length (cm)    0.401045\n",
            "dtype: float64\n"
          ]
        }
      ]
    },
    {
      "cell_type": "markdown",
      "source": [
        "14.  Once again, the variables `sepal_width` and `petal_length` are negatively correlated.  But for each individual species, these two variables are positively correlated.  How is this possible?  Explain this phenomenon.  Use a data visualization if it helps.\n"
      ],
      "metadata": {
        "id": "cK_OhSaRvxhE"
      }
    },
    {
      "cell_type": "code",
      "source": [
        "import matplotlib.pyplot as plt\n",
        "import seaborn as sns\n",
        "\n",
        "# Scatter plots\n",
        "plt.figure(figsize=(12, 4))\n",
        "\n",
        "plt.subplot(1, 3, 1)\n",
        "sns.scatterplot(data=iris[iris['species'] == 0], x='sepal width (cm)', y='petal length (cm)', label='Setosa')\n",
        "\n",
        "plt.subplot(1, 3, 2)\n",
        "sns.scatterplot(data=iris[iris['species'] == 1], x='sepal width (cm)', y='petal length (cm)', label='Versicolor')\n",
        "\n",
        "plt.subplot(1, 3, 3)\n",
        "sns.scatterplot(data=iris[iris['species'] == 2], x='sepal width (cm)', y='petal length (cm)', label='Virginica')\n",
        "\n",
        "plt.tight_layout()\n",
        "plt.show()"
      ],
      "metadata": {
        "id": "H4_QQDWHwJ3t",
        "colab": {
          "base_uri": "https://localhost:8080/",
          "height": 406
        },
        "outputId": "24189c21-0c7a-49be-bdf7-af4d3d349165"
      },
      "execution_count": null,
      "outputs": [
        {
          "output_type": "display_data",
          "data": {
            "text/plain": [
              "<Figure size 1200x400 with 3 Axes>"
            ],
            "image/png": "[encoded data removed]"
          },
          "metadata": {}
        }
      ]
    },
    {
      "cell_type": "markdown",
      "source": [
        "The variables sepal_width and petal_length are negatively correlated but the individual species are positively correlated. This demonstrates how the relationship between variables can vary when considering different subsets of data.\n",
        "\n",
        "\n",
        "\n"
      ],
      "metadata": {
        "id": "43MKcEDKochI"
      }
    }
  ],
  "metadata": {
    "kernelspec": {
      "display_name": "Python 3.8.9 64-bit",
      "language": "python",
      "name": "python3"
    },
    "language_info": {
      "codemirror_mode": {
        "name": "ipython",
        "version": 3
      },
      "file_extension": ".py",
      "mimetype": "text/x-python",
      "name": "python",
      "nbconvert_exporter": "python",
      "pygments_lexer": "ipython3",
      "version": "3.8.9"
    },
    "orig_nbformat": 4,
    "vscode": {
      "interpreter": {
        "hash": "31f2aee4e71d21fbe5cf8b01ff0e069b9275f58929596ceb00d14d90e3e16cd6"
      }
    },
    "colab": {
      "provenance": [],
      "include_colab_link": true
    }
  },
  "nbformat": 4,
  "nbformat_minor": 0
}